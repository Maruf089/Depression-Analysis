{
  "nbformat": 4,
  "nbformat_minor": 0,
  "metadata": {
    "colab": {
      "name": "Decision Tree_Depression_.ipynb",
      "provenance": [],
      "collapsed_sections": []
    },
    "kernelspec": {
      "display_name": "Python 3",
      "name": "python3"
    }
  },
  "cells": [
    {
      "cell_type": "code",
      "metadata": {
        "colab": {
          "base_uri": "https://localhost:8080/"
        },
        "id": "rjZpiIL261h2",
        "outputId": "74030c45-43ab-4f8e-a788-39fcf5cdd8ec"
      },
      "source": [
        "import pandas as pd\n",
        "import numpy as np\n",
        "\n",
        "from google.colab import drive\n",
        "drive.mount('/content/drive')\n"
      ],
      "execution_count": null,
      "outputs": [
        {
          "output_type": "stream",
          "name": "stdout",
          "text": [
            "Mounted at /content/drive\n"
          ]
        }
      ]
    },
    {
      "cell_type": "code",
      "metadata": {
        "id": "efFFGrEOY8EW"
      },
      "source": [
        "\n",
        "from sklearn.model_selection import train_test_split \n",
        "from sklearn.metrics import accuracy_score\n",
        "import pandas as pd\n",
        "import numpy as np\n",
        "import matplotlib.pyplot as plt"
      ],
      "execution_count": null,
      "outputs": []
    },
    {
      "cell_type": "code",
      "metadata": {
        "id": "KbZr3k7TVFla"
      },
      "source": [
        "class DecisionTree:\n",
        "    class Question:\n",
        "        def __init__(self, column,value):\n",
        "            self.column = column\n",
        "            self.value = value\n",
        "            \n",
        "    class Node:\n",
        "        def __init__(self,question,trueNode,falseNode,leafNode,prediction):\n",
        "            self.question = question\n",
        "            self.leafNode = leafNode\n",
        "            self.trueNode = trueNode\n",
        "            self.falseNode = falseNode\n",
        "            self.prediction = prediction\n",
        "\n",
        "    def fit(self,x_train,y_train):\n",
        "        data = x_train\n",
        "        data[\"label\"] = y_train\n",
        "        gain, question = self.find_feature(data)\n",
        "        leafNode=False\n",
        "        predictions=None\n",
        "        trueNode=None\n",
        "        falseNode=None\n",
        "        if gain==0:\n",
        "            leafNode = True\n",
        "            predictions = self.classCount(data)\n",
        "        else:\n",
        "            trueBranch,falseBranch = self.branchTree(question,data)\n",
        "            trueNode = self.train(trueBranch)\n",
        "            falseNode = self.train(falseBranch)\n",
        "        self.rootNode = self.Node(question,trueNode,falseNode,leafNode,predictions)\n",
        "        \n",
        "    def train(self,data):\n",
        "        gain, question=self.find_feature(data)\n",
        "        leafNode=False\n",
        "        predictions=None\n",
        "        trueNode=None\n",
        "        falseNode=None\n",
        "        if gain==0:\n",
        "            leafNode = True\n",
        "            predictions = self.classCount(data)\n",
        "        else:\n",
        "            trueBranch,falseBranch=self.branchTree(question,data)\n",
        "            trueNode = self.train(trueBranch)\n",
        "            falseNode = self.train(falseBranch)\n",
        "        return self.Node(question,trueNode,falseNode,leafNode,predictions)\n",
        "    \n",
        "    def classCount(self,data):\n",
        "        probability = data.groupby(\"label\")[\"label\"].count().to_dict()\n",
        "        for key in probability.keys():\n",
        "            probability[key] = (probability[key]/len(data))\n",
        "        return probability\n",
        "    \n",
        "    def gini(self,data):\n",
        "        counts = self.classCount(data)\n",
        "        impurity = 1\n",
        "        for lbl in counts:\n",
        "            prob_of_lbl = counts[lbl] / float(len(data))\n",
        "            impurity -= prob_of_lbl**2\n",
        "        return impurity\n",
        "    \n",
        "    def info_gain(self,left, right, Impurity):\n",
        "        p = float(len(left)) / (len(left) + len(right))\n",
        "        q = float(len(right)) / (len(left) + len(right))\n",
        "        return Impurity - p * self.gini(left) - q * self.gini(right)\n",
        "    \n",
        "    def find_feature(self,data):\n",
        "        gain = 0\n",
        "        question = None\n",
        "        current_uncertainty = self.gini(data)\n",
        "        for col in data.drop(\"label\",axis=1):\n",
        "            values = data[col].unique()\n",
        "            for val in values:\n",
        "                q = self.Question(col,val)\n",
        "                truenode,falsenode = self.branchTree(q,data)\n",
        "                if len(truenode)==0 or len(falsenode)==0:\n",
        "                    continue\n",
        "                g = self.info_gain(truenode, falsenode, current_uncertainty)\n",
        "                if g >= gain:\n",
        "                    gain, question = g, q\n",
        "        return gain,question\n",
        "    \n",
        "    def branchTree(self,question,data):\n",
        "        truenode = data[data[question.column]==question.value]\n",
        "        falsenode = data[data[question.column]!=question.value]\n",
        "        return truenode,falsenode\n",
        "        \n",
        "    def predict(self,data,probability=False):\n",
        "        if isinstance(data,pd.Series):\n",
        "            data=data.to_frame().T\n",
        "        result=[]\n",
        "        for row in data.iterrows():\n",
        "            row=row[1]\n",
        "            node=self.rootNode\n",
        "            while not node.leafNode:\n",
        "                if row[node.question.column]==node.question.value:\n",
        "                    node=node.trueNode\n",
        "                else:\n",
        "                    node=node.falseNode\n",
        "            if probability:\n",
        "                result.append(node.prediction)\n",
        "            else:\n",
        "                result.append(max(node.prediction, key=node.prediction.get))\n",
        "        return result"
      ],
      "execution_count": null,
      "outputs": []
    },
    {
      "cell_type": "code",
      "metadata": {
        "id": "8becDFNLbJTv"
      },
      "source": [
        "df = pd.read_csv(\"/content/drive/MyDrive/Dataset/Depression Analysis/Depression and Happiness Factor Analysis , Maruf's Copy (Responses) - Form Responses 1.csv\")\n",
        "\n",
        " # df = pd.read_csv(\"/content/drive/MyDrive/Dataset/Depression Analysis/My_dataset11.csv\");\n",
        "\n",
        " df.head()"
      ],
      "execution_count": null,
      "outputs": []
    },
    {
      "cell_type": "code",
      "metadata": {
        "id": "7ChKrTnoZAsc"
      },
      "source": [
        "Class_Status = df[\"label\"]\n",
        "df.drop([\"label\",\"On a scale of 1-100, how would you express this feeling?\",\"Timestamp\"],axis=1,inplace=True)"
      ],
      "execution_count": null,
      "outputs": []
    },
    {
      "cell_type": "code",
      "metadata": {
        "colab": {
          "base_uri": "https://localhost:8080/",
          "height": 462
        },
        "id": "DdgEyLA3dltC",
        "outputId": "c52b5b22-9a36-4a0d-e271-3a8d8325c73b"
      },
      "source": [
        "df.head()"
      ],
      "execution_count": null,
      "outputs": [
        {
          "output_type": "execute_result",
          "data": {
            "text/html": [
              "<div>\n",
              "<style scoped>\n",
              "    .dataframe tbody tr th:only-of-type {\n",
              "        vertical-align: middle;\n",
              "    }\n",
              "\n",
              "    .dataframe tbody tr th {\n",
              "        vertical-align: top;\n",
              "    }\n",
              "\n",
              "    .dataframe thead th {\n",
              "        text-align: right;\n",
              "    }\n",
              "</style>\n",
              "<table border=\"1\" class=\"dataframe\">\n",
              "  <thead>\n",
              "    <tr style=\"text-align: right;\">\n",
              "      <th></th>\n",
              "      <th>Which year are you in?</th>\n",
              "      <th>Gender</th>\n",
              "      <th>Age</th>\n",
              "      <th>Your location ?</th>\n",
              "      <th>Relationship status</th>\n",
              "      <th>Are you happy with your financial state?</th>\n",
              "      <th>How much have you succeeded to cope up with the environment of your educational institution?</th>\n",
              "      <th>Understanding with your family members?</th>\n",
              "      <th>Are you feeling pressure in your study or work right now?</th>\n",
              "      <th>Are you satisfied with your academic result?</th>\n",
              "      <th>Are you happy with your living place?</th>\n",
              "      <th>Who supports you when you are not succeeding in your academic life?</th>\n",
              "      <th>Have you used any social media within the last 6 hours?</th>\n",
              "      <th>Do you have inferiority complex?</th>\n",
              "      <th>Are you satisfied with your meal today?</th>\n",
              "      <th>Are you feeling sick/health issues today?</th>\n",
              "      <th>Have you done any recreational activity (sports, gaming, hobby etc.) today?</th>\n",
              "      <th>How long did you sleep last night?(in hours)</th>\n",
              "    </tr>\n",
              "  </thead>\n",
              "  <tbody>\n",
              "    <tr>\n",
              "      <th>0</th>\n",
              "      <td>1st year</td>\n",
              "      <td>Male</td>\n",
              "      <td>20</td>\n",
              "      <td>Hall</td>\n",
              "      <td>Single</td>\n",
              "      <td>Yes</td>\n",
              "      <td>2</td>\n",
              "      <td>Normal</td>\n",
              "      <td>Yes</td>\n",
              "      <td>No</td>\n",
              "      <td>No</td>\n",
              "      <td>Friends</td>\n",
              "      <td>Yes</td>\n",
              "      <td>Maybe</td>\n",
              "      <td>No</td>\n",
              "      <td>No</td>\n",
              "      <td>No</td>\n",
              "      <td>6.0</td>\n",
              "    </tr>\n",
              "    <tr>\n",
              "      <th>1</th>\n",
              "      <td>1st year</td>\n",
              "      <td>Male</td>\n",
              "      <td>20</td>\n",
              "      <td>Hall</td>\n",
              "      <td>Single</td>\n",
              "      <td>No</td>\n",
              "      <td>2</td>\n",
              "      <td>Normal</td>\n",
              "      <td>Yes</td>\n",
              "      <td>No</td>\n",
              "      <td>No</td>\n",
              "      <td>Friends</td>\n",
              "      <td>Yes</td>\n",
              "      <td>Maybe</td>\n",
              "      <td>No</td>\n",
              "      <td>No</td>\n",
              "      <td>Yes</td>\n",
              "      <td>6.5</td>\n",
              "    </tr>\n",
              "    <tr>\n",
              "      <th>2</th>\n",
              "      <td>4th year</td>\n",
              "      <td>Male</td>\n",
              "      <td>23</td>\n",
              "      <td>Playground</td>\n",
              "      <td>Single</td>\n",
              "      <td>No</td>\n",
              "      <td>3</td>\n",
              "      <td>Good</td>\n",
              "      <td>Yes</td>\n",
              "      <td>Yes</td>\n",
              "      <td>No</td>\n",
              "      <td>Friends</td>\n",
              "      <td>Yes</td>\n",
              "      <td>Yes</td>\n",
              "      <td>No</td>\n",
              "      <td>Yes</td>\n",
              "      <td>No</td>\n",
              "      <td>3.0</td>\n",
              "    </tr>\n",
              "    <tr>\n",
              "      <th>3</th>\n",
              "      <td>4th year</td>\n",
              "      <td>Male</td>\n",
              "      <td>23</td>\n",
              "      <td>Hall</td>\n",
              "      <td>Single</td>\n",
              "      <td>Yes</td>\n",
              "      <td>3</td>\n",
              "      <td>Normal</td>\n",
              "      <td>No</td>\n",
              "      <td>Yes</td>\n",
              "      <td>Yes</td>\n",
              "      <td>Family</td>\n",
              "      <td>Yes</td>\n",
              "      <td>No</td>\n",
              "      <td>Yes</td>\n",
              "      <td>No</td>\n",
              "      <td>No</td>\n",
              "      <td>7.0</td>\n",
              "    </tr>\n",
              "    <tr>\n",
              "      <th>4</th>\n",
              "      <td>4th year</td>\n",
              "      <td>Male</td>\n",
              "      <td>23</td>\n",
              "      <td>Department</td>\n",
              "      <td>Single</td>\n",
              "      <td>No</td>\n",
              "      <td>3</td>\n",
              "      <td>Normal</td>\n",
              "      <td>Yes</td>\n",
              "      <td>Yes</td>\n",
              "      <td>Yes</td>\n",
              "      <td>Family</td>\n",
              "      <td>Yes</td>\n",
              "      <td>No</td>\n",
              "      <td>Neutral</td>\n",
              "      <td>Yes</td>\n",
              "      <td>Yes</td>\n",
              "      <td>6.0</td>\n",
              "    </tr>\n",
              "  </tbody>\n",
              "</table>\n",
              "</div>"
            ],
            "text/plain": [
              "  Which year are you in?  ... How long did you sleep last night?(in hours)\n",
              "0               1st year  ...                                          6.0\n",
              "1               1st year  ...                                          6.5\n",
              "2               4th year  ...                                          3.0\n",
              "3               4th year  ...                                          7.0\n",
              "4               4th year  ...                                          6.0\n",
              "\n",
              "[5 rows x 18 columns]"
            ]
          },
          "metadata": {},
          "execution_count": 64
        }
      ]
    },
    {
      "cell_type": "code",
      "metadata": {
        "id": "QJ6rBSUPcuf6"
      },
      "source": [
        "x_train, x_test, y_train, y_test = train_test_split(df, Class_Status, test_size= 0.4, random_state=1)"
      ],
      "execution_count": null,
      "outputs": []
    },
    {
      "cell_type": "code",
      "metadata": {
        "colab": {
          "base_uri": "https://localhost:8080/"
        },
        "id": "TOHbmNR-7XxH",
        "outputId": "f1947f63-7b6e-4c8c-9b0d-a3394b79fbab"
      },
      "source": [
        " \n",
        "model = DecisionTree()\n",
        "model.fit(x_train,y_train)\n",
        " \n",
        "y_pred = model.predict(x_train) \n",
        "y_pred = model.predict(x_test)\n",
        " \n",
        " \n",
        "from sklearn import metrics\n",
        "from sklearn.metrics import classification_report\n",
        "from sklearn.metrics import confusion_matrix\n",
        "print(metrics.classification_report(y_pred,y_test))"
      ],
      "execution_count": null,
      "outputs": [
        {
          "output_type": "stream",
          "name": "stderr",
          "text": [
            "/usr/local/lib/python3.7/dist-packages/ipykernel_launcher.py:17: SettingWithCopyWarning: \n",
            "A value is trying to be set on a copy of a slice from a DataFrame.\n",
            "Try using .loc[row_indexer,col_indexer] = value instead\n",
            "\n",
            "See the caveats in the documentation: https://pandas.pydata.org/pandas-docs/stable/user_guide/indexing.html#returning-a-view-versus-a-copy\n"
          ]
        },
        {
          "output_type": "stream",
          "name": "stdout",
          "text": [
            "              precision    recall  f1-score   support\n",
            "\n",
            "         Bad       0.51      0.48      0.50        95\n",
            "        Good       0.56      0.51      0.54       107\n",
            "      Normal       0.92      0.94      0.93        96\n",
            "    Very bad       0.45      0.46      0.46        89\n",
            "   Very good       0.51      0.56      0.53        96\n",
            "\n",
            "    accuracy                           0.59       483\n",
            "   macro avg       0.59      0.59      0.59       483\n",
            "weighted avg       0.59      0.59      0.59       483\n",
            "\n"
          ]
        }
      ]
    },
    {
      "cell_type": "code",
      "metadata": {
        "id": "dV_Qx2w6nZB-"
      },
      "source": [
        ""
      ],
      "execution_count": null,
      "outputs": []
    },
    {
      "cell_type": "code",
      "metadata": {
        "id": "MUnbo-Cps0wu"
      },
      "source": [
        ""
      ],
      "execution_count": null,
      "outputs": []
    },
    {
      "cell_type": "code",
      "metadata": {
        "id": "x4cC-8Cps8Ni"
      },
      "source": [
        ""
      ],
      "execution_count": null,
      "outputs": []
    }
  ]
}